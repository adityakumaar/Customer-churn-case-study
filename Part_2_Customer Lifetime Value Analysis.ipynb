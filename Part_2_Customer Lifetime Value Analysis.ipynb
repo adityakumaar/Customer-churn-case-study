{
 "cells": [
  {
   "cell_type": "markdown",
   "id": "959d942b",
   "metadata": {},
   "source": [
    "<h1 style=\"text-align:center\">Telecom Customer Churn</h1>\n",
    "\n",
    "## Part 2: Analysis of Customer Lifetime Value\n",
    "Lifetime Value (LTV) is the total worth to a business of a customer over the period of their relationship to the company."
   ]
  },
  {
   "cell_type": "code",
   "execution_count": 1,
   "id": "fee2877c",
   "metadata": {},
   "outputs": [],
   "source": [
    "# importing required libraries\n",
    "import sqlite3\n",
    "import pandas as pd"
   ]
  },
  {
   "cell_type": "code",
   "execution_count": 2,
   "id": "12937584",
   "metadata": {},
   "outputs": [],
   "source": [
    "# creating a sql connection\n",
    "conn = sqlite3.connect(\"customer_churn.db\")"
   ]
  },
  {
   "cell_type": "code",
   "execution_count": 3,
   "id": "73162156",
   "metadata": {},
   "outputs": [],
   "source": [
    "# creating a dataframe from the customer_churn database\n",
    "df = pd.read_sql(\"select * from churn_all;\", conn)"
   ]
  },
  {
   "cell_type": "code",
   "execution_count": 4,
   "id": "6de71028",
   "metadata": {},
   "outputs": [
    {
     "data": {
      "text/html": [
       "<div>\n",
       "<style scoped>\n",
       "    .dataframe tbody tr th:only-of-type {\n",
       "        vertical-align: middle;\n",
       "    }\n",
       "\n",
       "    .dataframe tbody tr th {\n",
       "        vertical-align: top;\n",
       "    }\n",
       "\n",
       "    .dataframe thead th {\n",
       "        text-align: right;\n",
       "    }\n",
       "</style>\n",
       "<table border=\"1\" class=\"dataframe\">\n",
       "  <thead>\n",
       "    <tr style=\"text-align: right;\">\n",
       "      <th></th>\n",
       "      <th>CustomerID</th>\n",
       "      <th>Gender</th>\n",
       "      <th>SeniorCitizen</th>\n",
       "      <th>Partner</th>\n",
       "      <th>Dependents</th>\n",
       "      <th>State</th>\n",
       "      <th>Latitude</th>\n",
       "      <th>Longitude</th>\n",
       "      <th>ZipCode</th>\n",
       "      <th>PhoneService</th>\n",
       "      <th>...</th>\n",
       "      <th>TechSupport</th>\n",
       "      <th>StreamingTV</th>\n",
       "      <th>StreamingMovies</th>\n",
       "      <th>Tenure</th>\n",
       "      <th>Contract</th>\n",
       "      <th>PaymentMethod</th>\n",
       "      <th>PaperlessBilling</th>\n",
       "      <th>MonthlyCharges</th>\n",
       "      <th>TotalCharges</th>\n",
       "      <th>Churn</th>\n",
       "    </tr>\n",
       "  </thead>\n",
       "  <tbody>\n",
       "    <tr>\n",
       "      <th>0</th>\n",
       "      <td>3668-QPYBK</td>\n",
       "      <td>Male</td>\n",
       "      <td>No</td>\n",
       "      <td>No</td>\n",
       "      <td>No</td>\n",
       "      <td>California</td>\n",
       "      <td>33.964131</td>\n",
       "      <td>-118.272783</td>\n",
       "      <td>90003</td>\n",
       "      <td>Yes</td>\n",
       "      <td>...</td>\n",
       "      <td>No</td>\n",
       "      <td>No</td>\n",
       "      <td>No</td>\n",
       "      <td>2</td>\n",
       "      <td>Month-to-month</td>\n",
       "      <td>Mailed0check</td>\n",
       "      <td>Yes</td>\n",
       "      <td>53.85</td>\n",
       "      <td>108.15</td>\n",
       "      <td>Yes</td>\n",
       "    </tr>\n",
       "    <tr>\n",
       "      <th>1</th>\n",
       "      <td>9237-HQITU</td>\n",
       "      <td>Female</td>\n",
       "      <td>No</td>\n",
       "      <td>No</td>\n",
       "      <td>Yes</td>\n",
       "      <td>California</td>\n",
       "      <td>34.059281</td>\n",
       "      <td>-118.307420</td>\n",
       "      <td>90005</td>\n",
       "      <td>Yes</td>\n",
       "      <td>...</td>\n",
       "      <td>No</td>\n",
       "      <td>No</td>\n",
       "      <td>No</td>\n",
       "      <td>2</td>\n",
       "      <td>Month-to-month</td>\n",
       "      <td>Electronic0check</td>\n",
       "      <td>Yes</td>\n",
       "      <td>70.70</td>\n",
       "      <td>151.65</td>\n",
       "      <td>Yes</td>\n",
       "    </tr>\n",
       "    <tr>\n",
       "      <th>2</th>\n",
       "      <td>9305-CDSKC</td>\n",
       "      <td>Female</td>\n",
       "      <td>No</td>\n",
       "      <td>No</td>\n",
       "      <td>Yes</td>\n",
       "      <td>California</td>\n",
       "      <td>34.048013</td>\n",
       "      <td>-118.293953</td>\n",
       "      <td>90006</td>\n",
       "      <td>Yes</td>\n",
       "      <td>...</td>\n",
       "      <td>No</td>\n",
       "      <td>Yes</td>\n",
       "      <td>Yes</td>\n",
       "      <td>8</td>\n",
       "      <td>Month-to-month</td>\n",
       "      <td>Electronic0check</td>\n",
       "      <td>Yes</td>\n",
       "      <td>99.65</td>\n",
       "      <td>820.50</td>\n",
       "      <td>Yes</td>\n",
       "    </tr>\n",
       "    <tr>\n",
       "      <th>3</th>\n",
       "      <td>7892-POOKP</td>\n",
       "      <td>Female</td>\n",
       "      <td>No</td>\n",
       "      <td>Yes</td>\n",
       "      <td>Yes</td>\n",
       "      <td>California</td>\n",
       "      <td>34.062125</td>\n",
       "      <td>-118.315709</td>\n",
       "      <td>90010</td>\n",
       "      <td>Yes</td>\n",
       "      <td>...</td>\n",
       "      <td>Yes</td>\n",
       "      <td>Yes</td>\n",
       "      <td>Yes</td>\n",
       "      <td>28</td>\n",
       "      <td>Month-to-month</td>\n",
       "      <td>Electronic0check</td>\n",
       "      <td>Yes</td>\n",
       "      <td>104.80</td>\n",
       "      <td>3046.05</td>\n",
       "      <td>Yes</td>\n",
       "    </tr>\n",
       "    <tr>\n",
       "      <th>4</th>\n",
       "      <td>0280-XJGEX</td>\n",
       "      <td>Male</td>\n",
       "      <td>No</td>\n",
       "      <td>No</td>\n",
       "      <td>Yes</td>\n",
       "      <td>California</td>\n",
       "      <td>34.039224</td>\n",
       "      <td>-118.266293</td>\n",
       "      <td>90015</td>\n",
       "      <td>Yes</td>\n",
       "      <td>...</td>\n",
       "      <td>No</td>\n",
       "      <td>Yes</td>\n",
       "      <td>Yes</td>\n",
       "      <td>49</td>\n",
       "      <td>Month-to-month</td>\n",
       "      <td>Bank0transfer0(automatic)</td>\n",
       "      <td>Yes</td>\n",
       "      <td>103.70</td>\n",
       "      <td>5036.30</td>\n",
       "      <td>Yes</td>\n",
       "    </tr>\n",
       "  </tbody>\n",
       "</table>\n",
       "<p>5 rows × 25 columns</p>\n",
       "</div>"
      ],
      "text/plain": [
       "   CustomerID  Gender SeniorCitizen Partner Dependents       State   Latitude  \\\n",
       "0  3668-QPYBK    Male            No      No         No  California  33.964131   \n",
       "1  9237-HQITU  Female            No      No        Yes  California  34.059281   \n",
       "2  9305-CDSKC  Female            No      No        Yes  California  34.048013   \n",
       "3  7892-POOKP  Female            No     Yes        Yes  California  34.062125   \n",
       "4  0280-XJGEX    Male            No      No        Yes  California  34.039224   \n",
       "\n",
       "    Longitude  ZipCode PhoneService  ... TechSupport StreamingTV  \\\n",
       "0 -118.272783    90003          Yes  ...          No          No   \n",
       "1 -118.307420    90005          Yes  ...          No          No   \n",
       "2 -118.293953    90006          Yes  ...          No         Yes   \n",
       "3 -118.315709    90010          Yes  ...         Yes         Yes   \n",
       "4 -118.266293    90015          Yes  ...          No         Yes   \n",
       "\n",
       "  StreamingMovies Tenure        Contract              PaymentMethod  \\\n",
       "0              No      2  Month-to-month               Mailed0check   \n",
       "1              No      2  Month-to-month           Electronic0check   \n",
       "2             Yes      8  Month-to-month           Electronic0check   \n",
       "3             Yes     28  Month-to-month           Electronic0check   \n",
       "4             Yes     49  Month-to-month  Bank0transfer0(automatic)   \n",
       "\n",
       "  PaperlessBilling MonthlyCharges  TotalCharges Churn  \n",
       "0              Yes          53.85        108.15   Yes  \n",
       "1              Yes          70.70        151.65   Yes  \n",
       "2              Yes          99.65        820.50   Yes  \n",
       "3              Yes         104.80       3046.05   Yes  \n",
       "4              Yes         103.70       5036.30   Yes  \n",
       "\n",
       "[5 rows x 25 columns]"
      ]
     },
     "execution_count": 4,
     "metadata": {},
     "output_type": "execute_result"
    }
   ],
   "source": [
    "# displaying the top 5 rows of the dataframe\n",
    "df.head()"
   ]
  },
  {
   "cell_type": "code",
   "execution_count": 5,
   "id": "29657a49",
   "metadata": {},
   "outputs": [
    {
     "name": "stdout",
     "output_type": "stream",
     "text": [
      "Index(['CustomerID', 'Gender', 'SeniorCitizen', 'Partner', 'Dependents',\n",
      "       'State', 'Latitude', 'Longitude', 'ZipCode', 'PhoneService',\n",
      "       'MultipleLines', 'InternetService', 'OnlineSecurity', 'OnlineBackup',\n",
      "       'DeviceProtection', 'TechSupport', 'StreamingTV', 'StreamingMovies',\n",
      "       'Tenure', 'Contract', 'PaymentMethod', 'PaperlessBilling',\n",
      "       'MonthlyCharges', 'TotalCharges', 'Churn'],\n",
      "      dtype='object')\n"
     ]
    }
   ],
   "source": [
    "# displaying all the columns\n",
    "print(df.columns)"
   ]
  },
  {
   "cell_type": "markdown",
   "id": "810abc74",
   "metadata": {},
   "source": [
    "---\n",
    "### 1. Understanding the Customer Lifetime Value\n",
    "\n",
    "#### Question 1: What was the average LTV of the customers who unsubscribed the service? And how long do customers usually stay in the service?"
   ]
  },
  {
   "cell_type": "code",
   "execution_count": 6,
   "id": "526bffbf",
   "metadata": {},
   "outputs": [],
   "source": [
    "# extracting those customers who churned (churn = yes)\n",
    "churn_df = pd.read_sql(\"select * from churn_all where Churn = 'Yes'\", conn)"
   ]
  },
  {
   "cell_type": "code",
   "execution_count": 7,
   "id": "0e80a7c3",
   "metadata": {},
   "outputs": [
    {
     "data": {
      "text/html": [
       "<div>\n",
       "<style scoped>\n",
       "    .dataframe tbody tr th:only-of-type {\n",
       "        vertical-align: middle;\n",
       "    }\n",
       "\n",
       "    .dataframe tbody tr th {\n",
       "        vertical-align: top;\n",
       "    }\n",
       "\n",
       "    .dataframe thead th {\n",
       "        text-align: right;\n",
       "    }\n",
       "</style>\n",
       "<table border=\"1\" class=\"dataframe\">\n",
       "  <thead>\n",
       "    <tr style=\"text-align: right;\">\n",
       "      <th></th>\n",
       "      <th>CustomerID</th>\n",
       "      <th>Gender</th>\n",
       "      <th>SeniorCitizen</th>\n",
       "      <th>Partner</th>\n",
       "      <th>Dependents</th>\n",
       "      <th>State</th>\n",
       "      <th>Latitude</th>\n",
       "      <th>Longitude</th>\n",
       "      <th>ZipCode</th>\n",
       "      <th>PhoneService</th>\n",
       "      <th>...</th>\n",
       "      <th>TechSupport</th>\n",
       "      <th>StreamingTV</th>\n",
       "      <th>StreamingMovies</th>\n",
       "      <th>Tenure</th>\n",
       "      <th>Contract</th>\n",
       "      <th>PaymentMethod</th>\n",
       "      <th>PaperlessBilling</th>\n",
       "      <th>MonthlyCharges</th>\n",
       "      <th>TotalCharges</th>\n",
       "      <th>Churn</th>\n",
       "    </tr>\n",
       "  </thead>\n",
       "  <tbody>\n",
       "    <tr>\n",
       "      <th>0</th>\n",
       "      <td>3668-QPYBK</td>\n",
       "      <td>Male</td>\n",
       "      <td>No</td>\n",
       "      <td>No</td>\n",
       "      <td>No</td>\n",
       "      <td>California</td>\n",
       "      <td>33.964131</td>\n",
       "      <td>-118.272783</td>\n",
       "      <td>90003</td>\n",
       "      <td>Yes</td>\n",
       "      <td>...</td>\n",
       "      <td>No</td>\n",
       "      <td>No</td>\n",
       "      <td>No</td>\n",
       "      <td>2</td>\n",
       "      <td>Month-to-month</td>\n",
       "      <td>Mailed0check</td>\n",
       "      <td>Yes</td>\n",
       "      <td>53.85</td>\n",
       "      <td>108.15</td>\n",
       "      <td>Yes</td>\n",
       "    </tr>\n",
       "    <tr>\n",
       "      <th>1</th>\n",
       "      <td>9237-HQITU</td>\n",
       "      <td>Female</td>\n",
       "      <td>No</td>\n",
       "      <td>No</td>\n",
       "      <td>Yes</td>\n",
       "      <td>California</td>\n",
       "      <td>34.059281</td>\n",
       "      <td>-118.307420</td>\n",
       "      <td>90005</td>\n",
       "      <td>Yes</td>\n",
       "      <td>...</td>\n",
       "      <td>No</td>\n",
       "      <td>No</td>\n",
       "      <td>No</td>\n",
       "      <td>2</td>\n",
       "      <td>Month-to-month</td>\n",
       "      <td>Electronic0check</td>\n",
       "      <td>Yes</td>\n",
       "      <td>70.70</td>\n",
       "      <td>151.65</td>\n",
       "      <td>Yes</td>\n",
       "    </tr>\n",
       "    <tr>\n",
       "      <th>2</th>\n",
       "      <td>9305-CDSKC</td>\n",
       "      <td>Female</td>\n",
       "      <td>No</td>\n",
       "      <td>No</td>\n",
       "      <td>Yes</td>\n",
       "      <td>California</td>\n",
       "      <td>34.048013</td>\n",
       "      <td>-118.293953</td>\n",
       "      <td>90006</td>\n",
       "      <td>Yes</td>\n",
       "      <td>...</td>\n",
       "      <td>No</td>\n",
       "      <td>Yes</td>\n",
       "      <td>Yes</td>\n",
       "      <td>8</td>\n",
       "      <td>Month-to-month</td>\n",
       "      <td>Electronic0check</td>\n",
       "      <td>Yes</td>\n",
       "      <td>99.65</td>\n",
       "      <td>820.50</td>\n",
       "      <td>Yes</td>\n",
       "    </tr>\n",
       "    <tr>\n",
       "      <th>3</th>\n",
       "      <td>7892-POOKP</td>\n",
       "      <td>Female</td>\n",
       "      <td>No</td>\n",
       "      <td>Yes</td>\n",
       "      <td>Yes</td>\n",
       "      <td>California</td>\n",
       "      <td>34.062125</td>\n",
       "      <td>-118.315709</td>\n",
       "      <td>90010</td>\n",
       "      <td>Yes</td>\n",
       "      <td>...</td>\n",
       "      <td>Yes</td>\n",
       "      <td>Yes</td>\n",
       "      <td>Yes</td>\n",
       "      <td>28</td>\n",
       "      <td>Month-to-month</td>\n",
       "      <td>Electronic0check</td>\n",
       "      <td>Yes</td>\n",
       "      <td>104.80</td>\n",
       "      <td>3046.05</td>\n",
       "      <td>Yes</td>\n",
       "    </tr>\n",
       "    <tr>\n",
       "      <th>4</th>\n",
       "      <td>0280-XJGEX</td>\n",
       "      <td>Male</td>\n",
       "      <td>No</td>\n",
       "      <td>No</td>\n",
       "      <td>Yes</td>\n",
       "      <td>California</td>\n",
       "      <td>34.039224</td>\n",
       "      <td>-118.266293</td>\n",
       "      <td>90015</td>\n",
       "      <td>Yes</td>\n",
       "      <td>...</td>\n",
       "      <td>No</td>\n",
       "      <td>Yes</td>\n",
       "      <td>Yes</td>\n",
       "      <td>49</td>\n",
       "      <td>Month-to-month</td>\n",
       "      <td>Bank0transfer0(automatic)</td>\n",
       "      <td>Yes</td>\n",
       "      <td>103.70</td>\n",
       "      <td>5036.30</td>\n",
       "      <td>Yes</td>\n",
       "    </tr>\n",
       "  </tbody>\n",
       "</table>\n",
       "<p>5 rows × 25 columns</p>\n",
       "</div>"
      ],
      "text/plain": [
       "   CustomerID  Gender SeniorCitizen Partner Dependents       State   Latitude  \\\n",
       "0  3668-QPYBK    Male            No      No         No  California  33.964131   \n",
       "1  9237-HQITU  Female            No      No        Yes  California  34.059281   \n",
       "2  9305-CDSKC  Female            No      No        Yes  California  34.048013   \n",
       "3  7892-POOKP  Female            No     Yes        Yes  California  34.062125   \n",
       "4  0280-XJGEX    Male            No      No        Yes  California  34.039224   \n",
       "\n",
       "    Longitude  ZipCode PhoneService  ... TechSupport StreamingTV  \\\n",
       "0 -118.272783    90003          Yes  ...          No          No   \n",
       "1 -118.307420    90005          Yes  ...          No          No   \n",
       "2 -118.293953    90006          Yes  ...          No         Yes   \n",
       "3 -118.315709    90010          Yes  ...         Yes         Yes   \n",
       "4 -118.266293    90015          Yes  ...          No         Yes   \n",
       "\n",
       "  StreamingMovies Tenure        Contract              PaymentMethod  \\\n",
       "0              No      2  Month-to-month               Mailed0check   \n",
       "1              No      2  Month-to-month           Electronic0check   \n",
       "2             Yes      8  Month-to-month           Electronic0check   \n",
       "3             Yes     28  Month-to-month           Electronic0check   \n",
       "4             Yes     49  Month-to-month  Bank0transfer0(automatic)   \n",
       "\n",
       "  PaperlessBilling MonthlyCharges  TotalCharges Churn  \n",
       "0              Yes          53.85        108.15   Yes  \n",
       "1              Yes          70.70        151.65   Yes  \n",
       "2              Yes          99.65        820.50   Yes  \n",
       "3              Yes         104.80       3046.05   Yes  \n",
       "4              Yes         103.70       5036.30   Yes  \n",
       "\n",
       "[5 rows x 25 columns]"
      ]
     },
     "execution_count": 7,
     "metadata": {},
     "output_type": "execute_result"
    }
   ],
   "source": [
    "# displaying the top 5 rows\n",
    "churn_df.head()"
   ]
  },
  {
   "cell_type": "code",
   "execution_count": 8,
   "id": "060cdcdf",
   "metadata": {},
   "outputs": [
    {
     "data": {
      "text/plain": [
       "count    1869.000000\n",
       "mean     1531.796094\n",
       "std      1890.822994\n",
       "min        18.850000\n",
       "25%       134.500000\n",
       "50%       703.550000\n",
       "75%      2331.300000\n",
       "max      8684.800000\n",
       "Name: TotalCharges, dtype: float64"
      ]
     },
     "execution_count": 8,
     "metadata": {},
     "output_type": "execute_result"
    }
   ],
   "source": [
    "# examining the distrubution of TotalCharges\n",
    "churn_df[\"TotalCharges\"].describe()"
   ]
  },
  {
   "cell_type": "markdown",
   "id": "cca11e5d",
   "metadata": {},
   "source": [
    "Around 20% of the TotalCharges are very high. So, we can divide the dataset to study each distribution."
   ]
  },
  {
   "cell_type": "code",
   "execution_count": 8,
   "id": "29ce7d74",
   "metadata": {},
   "outputs": [
    {
     "data": {
      "text/plain": [
       "2840.4100000000003"
      ]
     },
     "execution_count": 8,
     "metadata": {},
     "output_type": "execute_result"
    }
   ],
   "source": [
    "# finding the 80th percentile of the data in TotalCharges\n",
    "churn_df.TotalCharges.quantile(0.8)"
   ]
  },
  {
   "cell_type": "markdown",
   "id": "c0e76e5f",
   "metadata": {},
   "source": [
    "The Lifetime Value of 80% of the people who left the company was below $2840"
   ]
  },
  {
   "cell_type": "code",
   "execution_count": 9,
   "id": "973d3922",
   "metadata": {},
   "outputs": [
    {
     "data": {
      "text/html": [
       "<div>\n",
       "<style scoped>\n",
       "    .dataframe tbody tr th:only-of-type {\n",
       "        vertical-align: middle;\n",
       "    }\n",
       "\n",
       "    .dataframe tbody tr th {\n",
       "        vertical-align: top;\n",
       "    }\n",
       "\n",
       "    .dataframe thead th {\n",
       "        text-align: right;\n",
       "    }\n",
       "</style>\n",
       "<table border=\"1\" class=\"dataframe\">\n",
       "  <thead>\n",
       "    <tr style=\"text-align: right;\">\n",
       "      <th></th>\n",
       "      <th>CustomerID</th>\n",
       "      <th>Gender</th>\n",
       "      <th>SeniorCitizen</th>\n",
       "      <th>Partner</th>\n",
       "      <th>Dependents</th>\n",
       "      <th>State</th>\n",
       "      <th>Latitude</th>\n",
       "      <th>Longitude</th>\n",
       "      <th>ZipCode</th>\n",
       "      <th>PhoneService</th>\n",
       "      <th>...</th>\n",
       "      <th>TechSupport</th>\n",
       "      <th>StreamingTV</th>\n",
       "      <th>StreamingMovies</th>\n",
       "      <th>Tenure</th>\n",
       "      <th>Contract</th>\n",
       "      <th>PaymentMethod</th>\n",
       "      <th>PaperlessBilling</th>\n",
       "      <th>MonthlyCharges</th>\n",
       "      <th>TotalCharges</th>\n",
       "      <th>Churn</th>\n",
       "    </tr>\n",
       "  </thead>\n",
       "  <tbody>\n",
       "    <tr>\n",
       "      <th>0</th>\n",
       "      <td>3668-QPYBK</td>\n",
       "      <td>Male</td>\n",
       "      <td>No</td>\n",
       "      <td>No</td>\n",
       "      <td>No</td>\n",
       "      <td>California</td>\n",
       "      <td>33.964131</td>\n",
       "      <td>-118.272783</td>\n",
       "      <td>90003</td>\n",
       "      <td>Yes</td>\n",
       "      <td>...</td>\n",
       "      <td>No</td>\n",
       "      <td>No</td>\n",
       "      <td>No</td>\n",
       "      <td>2</td>\n",
       "      <td>Month-to-month</td>\n",
       "      <td>Mailed0check</td>\n",
       "      <td>Yes</td>\n",
       "      <td>53.85</td>\n",
       "      <td>108.15</td>\n",
       "      <td>Yes</td>\n",
       "    </tr>\n",
       "    <tr>\n",
       "      <th>1</th>\n",
       "      <td>9237-HQITU</td>\n",
       "      <td>Female</td>\n",
       "      <td>No</td>\n",
       "      <td>No</td>\n",
       "      <td>Yes</td>\n",
       "      <td>California</td>\n",
       "      <td>34.059281</td>\n",
       "      <td>-118.307420</td>\n",
       "      <td>90005</td>\n",
       "      <td>Yes</td>\n",
       "      <td>...</td>\n",
       "      <td>No</td>\n",
       "      <td>No</td>\n",
       "      <td>No</td>\n",
       "      <td>2</td>\n",
       "      <td>Month-to-month</td>\n",
       "      <td>Electronic0check</td>\n",
       "      <td>Yes</td>\n",
       "      <td>70.70</td>\n",
       "      <td>151.65</td>\n",
       "      <td>Yes</td>\n",
       "    </tr>\n",
       "    <tr>\n",
       "      <th>2</th>\n",
       "      <td>9305-CDSKC</td>\n",
       "      <td>Female</td>\n",
       "      <td>No</td>\n",
       "      <td>No</td>\n",
       "      <td>Yes</td>\n",
       "      <td>California</td>\n",
       "      <td>34.048013</td>\n",
       "      <td>-118.293953</td>\n",
       "      <td>90006</td>\n",
       "      <td>Yes</td>\n",
       "      <td>...</td>\n",
       "      <td>No</td>\n",
       "      <td>Yes</td>\n",
       "      <td>Yes</td>\n",
       "      <td>8</td>\n",
       "      <td>Month-to-month</td>\n",
       "      <td>Electronic0check</td>\n",
       "      <td>Yes</td>\n",
       "      <td>99.65</td>\n",
       "      <td>820.50</td>\n",
       "      <td>Yes</td>\n",
       "    </tr>\n",
       "    <tr>\n",
       "      <th>3</th>\n",
       "      <td>4190-MFLUW</td>\n",
       "      <td>Female</td>\n",
       "      <td>No</td>\n",
       "      <td>Yes</td>\n",
       "      <td>No</td>\n",
       "      <td>California</td>\n",
       "      <td>34.066367</td>\n",
       "      <td>-118.309868</td>\n",
       "      <td>90020</td>\n",
       "      <td>Yes</td>\n",
       "      <td>...</td>\n",
       "      <td>Yes</td>\n",
       "      <td>No</td>\n",
       "      <td>No</td>\n",
       "      <td>10</td>\n",
       "      <td>Month-to-month</td>\n",
       "      <td>Credit0card0(automatic)</td>\n",
       "      <td>No</td>\n",
       "      <td>55.20</td>\n",
       "      <td>528.35</td>\n",
       "      <td>Yes</td>\n",
       "    </tr>\n",
       "    <tr>\n",
       "      <th>4</th>\n",
       "      <td>8779-QRDMV</td>\n",
       "      <td>Male</td>\n",
       "      <td>Yes</td>\n",
       "      <td>No</td>\n",
       "      <td>No</td>\n",
       "      <td>California</td>\n",
       "      <td>34.023810</td>\n",
       "      <td>-118.156582</td>\n",
       "      <td>90022</td>\n",
       "      <td>No</td>\n",
       "      <td>...</td>\n",
       "      <td>No</td>\n",
       "      <td>No</td>\n",
       "      <td>Yes</td>\n",
       "      <td>1</td>\n",
       "      <td>Month-to-month</td>\n",
       "      <td>Electronic0check</td>\n",
       "      <td>Yes</td>\n",
       "      <td>39.65</td>\n",
       "      <td>39.65</td>\n",
       "      <td>Yes</td>\n",
       "    </tr>\n",
       "    <tr>\n",
       "      <th>...</th>\n",
       "      <td>...</td>\n",
       "      <td>...</td>\n",
       "      <td>...</td>\n",
       "      <td>...</td>\n",
       "      <td>...</td>\n",
       "      <td>...</td>\n",
       "      <td>...</td>\n",
       "      <td>...</td>\n",
       "      <td>...</td>\n",
       "      <td>...</td>\n",
       "      <td>...</td>\n",
       "      <td>...</td>\n",
       "      <td>...</td>\n",
       "      <td>...</td>\n",
       "      <td>...</td>\n",
       "      <td>...</td>\n",
       "      <td>...</td>\n",
       "      <td>...</td>\n",
       "      <td>...</td>\n",
       "      <td>...</td>\n",
       "      <td>...</td>\n",
       "    </tr>\n",
       "    <tr>\n",
       "      <th>4745</th>\n",
       "      <td>8456-QDAVC</td>\n",
       "      <td>Male</td>\n",
       "      <td>No</td>\n",
       "      <td>No</td>\n",
       "      <td>No</td>\n",
       "      <td>California</td>\n",
       "      <td>32.852947</td>\n",
       "      <td>-114.850784</td>\n",
       "      <td>92283</td>\n",
       "      <td>Yes</td>\n",
       "      <td>...</td>\n",
       "      <td>No</td>\n",
       "      <td>Yes</td>\n",
       "      <td>No</td>\n",
       "      <td>19</td>\n",
       "      <td>Month-to-month</td>\n",
       "      <td>Bank0transfer0(automatic)</td>\n",
       "      <td>Yes</td>\n",
       "      <td>78.70</td>\n",
       "      <td>1495.10</td>\n",
       "      <td>No</td>\n",
       "    </tr>\n",
       "    <tr>\n",
       "      <th>4746</th>\n",
       "      <td>7750-EYXWZ</td>\n",
       "      <td>Female</td>\n",
       "      <td>No</td>\n",
       "      <td>No</td>\n",
       "      <td>No</td>\n",
       "      <td>California</td>\n",
       "      <td>34.159534</td>\n",
       "      <td>-116.425984</td>\n",
       "      <td>92284</td>\n",
       "      <td>No</td>\n",
       "      <td>...</td>\n",
       "      <td>Yes</td>\n",
       "      <td>Yes</td>\n",
       "      <td>Yes</td>\n",
       "      <td>12</td>\n",
       "      <td>One0year</td>\n",
       "      <td>Electronic0check</td>\n",
       "      <td>No</td>\n",
       "      <td>60.65</td>\n",
       "      <td>743.30</td>\n",
       "      <td>No</td>\n",
       "    </tr>\n",
       "    <tr>\n",
       "      <th>4747</th>\n",
       "      <td>2569-WGERO</td>\n",
       "      <td>Female</td>\n",
       "      <td>No</td>\n",
       "      <td>No</td>\n",
       "      <td>No</td>\n",
       "      <td>California</td>\n",
       "      <td>34.341737</td>\n",
       "      <td>-116.539416</td>\n",
       "      <td>92285</td>\n",
       "      <td>Yes</td>\n",
       "      <td>...</td>\n",
       "      <td>No internet service</td>\n",
       "      <td>No internet service</td>\n",
       "      <td>No internet service</td>\n",
       "      <td>72</td>\n",
       "      <td>Two0year</td>\n",
       "      <td>Bank0transfer0(automatic)</td>\n",
       "      <td>Yes</td>\n",
       "      <td>21.15</td>\n",
       "      <td>1419.40</td>\n",
       "      <td>No</td>\n",
       "    </tr>\n",
       "    <tr>\n",
       "      <th>4748</th>\n",
       "      <td>6840-RESVB</td>\n",
       "      <td>Male</td>\n",
       "      <td>No</td>\n",
       "      <td>Yes</td>\n",
       "      <td>Yes</td>\n",
       "      <td>California</td>\n",
       "      <td>34.667815</td>\n",
       "      <td>-117.536183</td>\n",
       "      <td>92301</td>\n",
       "      <td>Yes</td>\n",
       "      <td>...</td>\n",
       "      <td>Yes</td>\n",
       "      <td>Yes</td>\n",
       "      <td>Yes</td>\n",
       "      <td>24</td>\n",
       "      <td>One0year</td>\n",
       "      <td>Mailed0check</td>\n",
       "      <td>Yes</td>\n",
       "      <td>84.80</td>\n",
       "      <td>1990.50</td>\n",
       "      <td>No</td>\n",
       "    </tr>\n",
       "    <tr>\n",
       "      <th>4749</th>\n",
       "      <td>4801-JZAZL</td>\n",
       "      <td>Female</td>\n",
       "      <td>No</td>\n",
       "      <td>Yes</td>\n",
       "      <td>Yes</td>\n",
       "      <td>California</td>\n",
       "      <td>34.167800</td>\n",
       "      <td>-116.864330</td>\n",
       "      <td>92305</td>\n",
       "      <td>No</td>\n",
       "      <td>...</td>\n",
       "      <td>No</td>\n",
       "      <td>No</td>\n",
       "      <td>No</td>\n",
       "      <td>11</td>\n",
       "      <td>Month-to-month</td>\n",
       "      <td>Electronic0check</td>\n",
       "      <td>Yes</td>\n",
       "      <td>29.60</td>\n",
       "      <td>346.45</td>\n",
       "      <td>No</td>\n",
       "    </tr>\n",
       "  </tbody>\n",
       "</table>\n",
       "<p>4750 rows × 25 columns</p>\n",
       "</div>"
      ],
      "text/plain": [
       "      CustomerID  Gender SeniorCitizen Partner Dependents       State  \\\n",
       "0     3668-QPYBK    Male            No      No         No  California   \n",
       "1     9237-HQITU  Female            No      No        Yes  California   \n",
       "2     9305-CDSKC  Female            No      No        Yes  California   \n",
       "3     4190-MFLUW  Female            No     Yes         No  California   \n",
       "4     8779-QRDMV    Male           Yes      No         No  California   \n",
       "...          ...     ...           ...     ...        ...         ...   \n",
       "4745  8456-QDAVC    Male            No      No         No  California   \n",
       "4746  7750-EYXWZ  Female            No      No         No  California   \n",
       "4747  2569-WGERO  Female            No      No         No  California   \n",
       "4748  6840-RESVB    Male            No     Yes        Yes  California   \n",
       "4749  4801-JZAZL  Female            No     Yes        Yes  California   \n",
       "\n",
       "       Latitude   Longitude  ZipCode PhoneService  ...          TechSupport  \\\n",
       "0     33.964131 -118.272783    90003          Yes  ...                   No   \n",
       "1     34.059281 -118.307420    90005          Yes  ...                   No   \n",
       "2     34.048013 -118.293953    90006          Yes  ...                   No   \n",
       "3     34.066367 -118.309868    90020          Yes  ...                  Yes   \n",
       "4     34.023810 -118.156582    90022           No  ...                   No   \n",
       "...         ...         ...      ...          ...  ...                  ...   \n",
       "4745  32.852947 -114.850784    92283          Yes  ...                   No   \n",
       "4746  34.159534 -116.425984    92284           No  ...                  Yes   \n",
       "4747  34.341737 -116.539416    92285          Yes  ...  No internet service   \n",
       "4748  34.667815 -117.536183    92301          Yes  ...                  Yes   \n",
       "4749  34.167800 -116.864330    92305           No  ...                   No   \n",
       "\n",
       "              StreamingTV      StreamingMovies Tenure        Contract  \\\n",
       "0                      No                   No      2  Month-to-month   \n",
       "1                      No                   No      2  Month-to-month   \n",
       "2                     Yes                  Yes      8  Month-to-month   \n",
       "3                      No                   No     10  Month-to-month   \n",
       "4                      No                  Yes      1  Month-to-month   \n",
       "...                   ...                  ...    ...             ...   \n",
       "4745                  Yes                   No     19  Month-to-month   \n",
       "4746                  Yes                  Yes     12        One0year   \n",
       "4747  No internet service  No internet service     72        Two0year   \n",
       "4748                  Yes                  Yes     24        One0year   \n",
       "4749                   No                   No     11  Month-to-month   \n",
       "\n",
       "                  PaymentMethod PaperlessBilling MonthlyCharges  TotalCharges  \\\n",
       "0                  Mailed0check              Yes          53.85        108.15   \n",
       "1              Electronic0check              Yes          70.70        151.65   \n",
       "2              Electronic0check              Yes          99.65        820.50   \n",
       "3       Credit0card0(automatic)               No          55.20        528.35   \n",
       "4              Electronic0check              Yes          39.65         39.65   \n",
       "...                         ...              ...            ...           ...   \n",
       "4745  Bank0transfer0(automatic)              Yes          78.70       1495.10   \n",
       "4746           Electronic0check               No          60.65        743.30   \n",
       "4747  Bank0transfer0(automatic)              Yes          21.15       1419.40   \n",
       "4748               Mailed0check              Yes          84.80       1990.50   \n",
       "4749           Electronic0check              Yes          29.60        346.45   \n",
       "\n",
       "     Churn  \n",
       "0      Yes  \n",
       "1      Yes  \n",
       "2      Yes  \n",
       "3      Yes  \n",
       "4      Yes  \n",
       "...    ...  \n",
       "4745    No  \n",
       "4746    No  \n",
       "4747    No  \n",
       "4748    No  \n",
       "4749    No  \n",
       "\n",
       "[4750 rows x 25 columns]"
      ]
     },
     "execution_count": 9,
     "metadata": {},
     "output_type": "execute_result"
    }
   ],
   "source": [
    "# selecting all the customers who have TotalCharges less than or equal to $2840\n",
    "pd.read_sql(\"select * from churn_all where TotalCharges <= 2840.41\", conn)"
   ]
  },
  {
   "cell_type": "code",
   "execution_count": 10,
   "id": "c0eab666",
   "metadata": {},
   "outputs": [
    {
     "data": {
      "text/html": [
       "<div>\n",
       "<style scoped>\n",
       "    .dataframe tbody tr th:only-of-type {\n",
       "        vertical-align: middle;\n",
       "    }\n",
       "\n",
       "    .dataframe tbody tr th {\n",
       "        vertical-align: top;\n",
       "    }\n",
       "\n",
       "    .dataframe thead th {\n",
       "        text-align: right;\n",
       "    }\n",
       "</style>\n",
       "<table border=\"1\" class=\"dataframe\">\n",
       "  <thead>\n",
       "    <tr style=\"text-align: right;\">\n",
       "      <th></th>\n",
       "      <th>CustomerID</th>\n",
       "      <th>Gender</th>\n",
       "      <th>SeniorCitizen</th>\n",
       "      <th>Partner</th>\n",
       "      <th>Dependents</th>\n",
       "      <th>State</th>\n",
       "      <th>Latitude</th>\n",
       "      <th>Longitude</th>\n",
       "      <th>ZipCode</th>\n",
       "      <th>PhoneService</th>\n",
       "      <th>...</th>\n",
       "      <th>TechSupport</th>\n",
       "      <th>StreamingTV</th>\n",
       "      <th>StreamingMovies</th>\n",
       "      <th>Tenure</th>\n",
       "      <th>Contract</th>\n",
       "      <th>PaymentMethod</th>\n",
       "      <th>PaperlessBilling</th>\n",
       "      <th>MonthlyCharges</th>\n",
       "      <th>TotalCharges</th>\n",
       "      <th>Churn</th>\n",
       "    </tr>\n",
       "  </thead>\n",
       "  <tbody>\n",
       "    <tr>\n",
       "      <th>0</th>\n",
       "      <td>3668-QPYBK</td>\n",
       "      <td>Male</td>\n",
       "      <td>No</td>\n",
       "      <td>No</td>\n",
       "      <td>No</td>\n",
       "      <td>California</td>\n",
       "      <td>33.964131</td>\n",
       "      <td>-118.272783</td>\n",
       "      <td>90003</td>\n",
       "      <td>Yes</td>\n",
       "      <td>...</td>\n",
       "      <td>No</td>\n",
       "      <td>No</td>\n",
       "      <td>No</td>\n",
       "      <td>2</td>\n",
       "      <td>Month-to-month</td>\n",
       "      <td>Mailed0check</td>\n",
       "      <td>Yes</td>\n",
       "      <td>53.85</td>\n",
       "      <td>108.15</td>\n",
       "      <td>Yes</td>\n",
       "    </tr>\n",
       "    <tr>\n",
       "      <th>1</th>\n",
       "      <td>9237-HQITU</td>\n",
       "      <td>Female</td>\n",
       "      <td>No</td>\n",
       "      <td>No</td>\n",
       "      <td>Yes</td>\n",
       "      <td>California</td>\n",
       "      <td>34.059281</td>\n",
       "      <td>-118.307420</td>\n",
       "      <td>90005</td>\n",
       "      <td>Yes</td>\n",
       "      <td>...</td>\n",
       "      <td>No</td>\n",
       "      <td>No</td>\n",
       "      <td>No</td>\n",
       "      <td>2</td>\n",
       "      <td>Month-to-month</td>\n",
       "      <td>Electronic0check</td>\n",
       "      <td>Yes</td>\n",
       "      <td>70.70</td>\n",
       "      <td>151.65</td>\n",
       "      <td>Yes</td>\n",
       "    </tr>\n",
       "    <tr>\n",
       "      <th>2</th>\n",
       "      <td>9305-CDSKC</td>\n",
       "      <td>Female</td>\n",
       "      <td>No</td>\n",
       "      <td>No</td>\n",
       "      <td>Yes</td>\n",
       "      <td>California</td>\n",
       "      <td>34.048013</td>\n",
       "      <td>-118.293953</td>\n",
       "      <td>90006</td>\n",
       "      <td>Yes</td>\n",
       "      <td>...</td>\n",
       "      <td>No</td>\n",
       "      <td>Yes</td>\n",
       "      <td>Yes</td>\n",
       "      <td>8</td>\n",
       "      <td>Month-to-month</td>\n",
       "      <td>Electronic0check</td>\n",
       "      <td>Yes</td>\n",
       "      <td>99.65</td>\n",
       "      <td>820.50</td>\n",
       "      <td>Yes</td>\n",
       "    </tr>\n",
       "    <tr>\n",
       "      <th>5</th>\n",
       "      <td>4190-MFLUW</td>\n",
       "      <td>Female</td>\n",
       "      <td>No</td>\n",
       "      <td>Yes</td>\n",
       "      <td>No</td>\n",
       "      <td>California</td>\n",
       "      <td>34.066367</td>\n",
       "      <td>-118.309868</td>\n",
       "      <td>90020</td>\n",
       "      <td>Yes</td>\n",
       "      <td>...</td>\n",
       "      <td>Yes</td>\n",
       "      <td>No</td>\n",
       "      <td>No</td>\n",
       "      <td>10</td>\n",
       "      <td>Month-to-month</td>\n",
       "      <td>Credit0card0(automatic)</td>\n",
       "      <td>No</td>\n",
       "      <td>55.20</td>\n",
       "      <td>528.35</td>\n",
       "      <td>Yes</td>\n",
       "    </tr>\n",
       "    <tr>\n",
       "      <th>6</th>\n",
       "      <td>8779-QRDMV</td>\n",
       "      <td>Male</td>\n",
       "      <td>Yes</td>\n",
       "      <td>No</td>\n",
       "      <td>No</td>\n",
       "      <td>California</td>\n",
       "      <td>34.023810</td>\n",
       "      <td>-118.156582</td>\n",
       "      <td>90022</td>\n",
       "      <td>No</td>\n",
       "      <td>...</td>\n",
       "      <td>No</td>\n",
       "      <td>No</td>\n",
       "      <td>Yes</td>\n",
       "      <td>1</td>\n",
       "      <td>Month-to-month</td>\n",
       "      <td>Electronic0check</td>\n",
       "      <td>Yes</td>\n",
       "      <td>39.65</td>\n",
       "      <td>39.65</td>\n",
       "      <td>Yes</td>\n",
       "    </tr>\n",
       "    <tr>\n",
       "      <th>...</th>\n",
       "      <td>...</td>\n",
       "      <td>...</td>\n",
       "      <td>...</td>\n",
       "      <td>...</td>\n",
       "      <td>...</td>\n",
       "      <td>...</td>\n",
       "      <td>...</td>\n",
       "      <td>...</td>\n",
       "      <td>...</td>\n",
       "      <td>...</td>\n",
       "      <td>...</td>\n",
       "      <td>...</td>\n",
       "      <td>...</td>\n",
       "      <td>...</td>\n",
       "      <td>...</td>\n",
       "      <td>...</td>\n",
       "      <td>...</td>\n",
       "      <td>...</td>\n",
       "      <td>...</td>\n",
       "      <td>...</td>\n",
       "      <td>...</td>\n",
       "    </tr>\n",
       "    <tr>\n",
       "      <th>1863</th>\n",
       "      <td>1122-JWTJW</td>\n",
       "      <td>Male</td>\n",
       "      <td>No</td>\n",
       "      <td>Yes</td>\n",
       "      <td>Yes</td>\n",
       "      <td>California</td>\n",
       "      <td>32.698964</td>\n",
       "      <td>-115.886656</td>\n",
       "      <td>92259</td>\n",
       "      <td>Yes</td>\n",
       "      <td>...</td>\n",
       "      <td>No</td>\n",
       "      <td>No</td>\n",
       "      <td>No</td>\n",
       "      <td>1</td>\n",
       "      <td>Month-to-month</td>\n",
       "      <td>Mailed0check</td>\n",
       "      <td>Yes</td>\n",
       "      <td>70.65</td>\n",
       "      <td>70.65</td>\n",
       "      <td>Yes</td>\n",
       "    </tr>\n",
       "    <tr>\n",
       "      <th>1864</th>\n",
       "      <td>1699-HPSBG</td>\n",
       "      <td>Male</td>\n",
       "      <td>No</td>\n",
       "      <td>No</td>\n",
       "      <td>No</td>\n",
       "      <td>California</td>\n",
       "      <td>33.745746</td>\n",
       "      <td>-116.514215</td>\n",
       "      <td>92264</td>\n",
       "      <td>Yes</td>\n",
       "      <td>...</td>\n",
       "      <td>Yes</td>\n",
       "      <td>Yes</td>\n",
       "      <td>No</td>\n",
       "      <td>12</td>\n",
       "      <td>One0year</td>\n",
       "      <td>Electronic0check</td>\n",
       "      <td>Yes</td>\n",
       "      <td>59.80</td>\n",
       "      <td>727.80</td>\n",
       "      <td>Yes</td>\n",
       "    </tr>\n",
       "    <tr>\n",
       "      <th>1865</th>\n",
       "      <td>8775-CEBBJ</td>\n",
       "      <td>Female</td>\n",
       "      <td>No</td>\n",
       "      <td>No</td>\n",
       "      <td>No</td>\n",
       "      <td>California</td>\n",
       "      <td>32.790282</td>\n",
       "      <td>-115.689559</td>\n",
       "      <td>92273</td>\n",
       "      <td>Yes</td>\n",
       "      <td>...</td>\n",
       "      <td>No</td>\n",
       "      <td>No</td>\n",
       "      <td>No</td>\n",
       "      <td>9</td>\n",
       "      <td>Month-to-month</td>\n",
       "      <td>Bank0transfer0(automatic)</td>\n",
       "      <td>Yes</td>\n",
       "      <td>44.20</td>\n",
       "      <td>403.35</td>\n",
       "      <td>Yes</td>\n",
       "    </tr>\n",
       "    <tr>\n",
       "      <th>1866</th>\n",
       "      <td>6894-LFHLY</td>\n",
       "      <td>Male</td>\n",
       "      <td>Yes</td>\n",
       "      <td>No</td>\n",
       "      <td>No</td>\n",
       "      <td>California</td>\n",
       "      <td>34.264124</td>\n",
       "      <td>-114.717964</td>\n",
       "      <td>92280</td>\n",
       "      <td>Yes</td>\n",
       "      <td>...</td>\n",
       "      <td>No</td>\n",
       "      <td>No</td>\n",
       "      <td>No</td>\n",
       "      <td>1</td>\n",
       "      <td>Month-to-month</td>\n",
       "      <td>Electronic0check</td>\n",
       "      <td>Yes</td>\n",
       "      <td>75.75</td>\n",
       "      <td>75.75</td>\n",
       "      <td>Yes</td>\n",
       "    </tr>\n",
       "    <tr>\n",
       "      <th>1868</th>\n",
       "      <td>8361-LTMKD</td>\n",
       "      <td>Male</td>\n",
       "      <td>Yes</td>\n",
       "      <td>Yes</td>\n",
       "      <td>No</td>\n",
       "      <td>California</td>\n",
       "      <td>34.550820</td>\n",
       "      <td>-117.122396</td>\n",
       "      <td>92307</td>\n",
       "      <td>Yes</td>\n",
       "      <td>...</td>\n",
       "      <td>No</td>\n",
       "      <td>No</td>\n",
       "      <td>No</td>\n",
       "      <td>4</td>\n",
       "      <td>Month-to-month</td>\n",
       "      <td>Mailed0check</td>\n",
       "      <td>Yes</td>\n",
       "      <td>74.40</td>\n",
       "      <td>306.60</td>\n",
       "      <td>Yes</td>\n",
       "    </tr>\n",
       "  </tbody>\n",
       "</table>\n",
       "<p>1495 rows × 25 columns</p>\n",
       "</div>"
      ],
      "text/plain": [
       "      CustomerID  Gender SeniorCitizen Partner Dependents       State  \\\n",
       "0     3668-QPYBK    Male            No      No         No  California   \n",
       "1     9237-HQITU  Female            No      No        Yes  California   \n",
       "2     9305-CDSKC  Female            No      No        Yes  California   \n",
       "5     4190-MFLUW  Female            No     Yes         No  California   \n",
       "6     8779-QRDMV    Male           Yes      No         No  California   \n",
       "...          ...     ...           ...     ...        ...         ...   \n",
       "1863  1122-JWTJW    Male            No     Yes        Yes  California   \n",
       "1864  1699-HPSBG    Male            No      No         No  California   \n",
       "1865  8775-CEBBJ  Female            No      No         No  California   \n",
       "1866  6894-LFHLY    Male           Yes      No         No  California   \n",
       "1868  8361-LTMKD    Male           Yes     Yes         No  California   \n",
       "\n",
       "       Latitude   Longitude  ZipCode PhoneService  ... TechSupport  \\\n",
       "0     33.964131 -118.272783    90003          Yes  ...          No   \n",
       "1     34.059281 -118.307420    90005          Yes  ...          No   \n",
       "2     34.048013 -118.293953    90006          Yes  ...          No   \n",
       "5     34.066367 -118.309868    90020          Yes  ...         Yes   \n",
       "6     34.023810 -118.156582    90022           No  ...          No   \n",
       "...         ...         ...      ...          ...  ...         ...   \n",
       "1863  32.698964 -115.886656    92259          Yes  ...          No   \n",
       "1864  33.745746 -116.514215    92264          Yes  ...         Yes   \n",
       "1865  32.790282 -115.689559    92273          Yes  ...          No   \n",
       "1866  34.264124 -114.717964    92280          Yes  ...          No   \n",
       "1868  34.550820 -117.122396    92307          Yes  ...          No   \n",
       "\n",
       "     StreamingTV StreamingMovies Tenure        Contract  \\\n",
       "0             No              No      2  Month-to-month   \n",
       "1             No              No      2  Month-to-month   \n",
       "2            Yes             Yes      8  Month-to-month   \n",
       "5             No              No     10  Month-to-month   \n",
       "6             No             Yes      1  Month-to-month   \n",
       "...          ...             ...    ...             ...   \n",
       "1863          No              No      1  Month-to-month   \n",
       "1864         Yes              No     12        One0year   \n",
       "1865          No              No      9  Month-to-month   \n",
       "1866          No              No      1  Month-to-month   \n",
       "1868          No              No      4  Month-to-month   \n",
       "\n",
       "                  PaymentMethod PaperlessBilling MonthlyCharges  TotalCharges  \\\n",
       "0                  Mailed0check              Yes          53.85        108.15   \n",
       "1              Electronic0check              Yes          70.70        151.65   \n",
       "2              Electronic0check              Yes          99.65        820.50   \n",
       "5       Credit0card0(automatic)               No          55.20        528.35   \n",
       "6              Electronic0check              Yes          39.65         39.65   \n",
       "...                         ...              ...            ...           ...   \n",
       "1863               Mailed0check              Yes          70.65         70.65   \n",
       "1864           Electronic0check              Yes          59.80        727.80   \n",
       "1865  Bank0transfer0(automatic)              Yes          44.20        403.35   \n",
       "1866           Electronic0check              Yes          75.75         75.75   \n",
       "1868               Mailed0check              Yes          74.40        306.60   \n",
       "\n",
       "     Churn  \n",
       "0      Yes  \n",
       "1      Yes  \n",
       "2      Yes  \n",
       "5      Yes  \n",
       "6      Yes  \n",
       "...    ...  \n",
       "1863   Yes  \n",
       "1864   Yes  \n",
       "1865   Yes  \n",
       "1866   Yes  \n",
       "1868   Yes  \n",
       "\n",
       "[1495 rows x 25 columns]"
      ]
     },
     "execution_count": 10,
     "metadata": {},
     "output_type": "execute_result"
    }
   ],
   "source": [
    "churn_df.query(\"TotalCharges <= 2840.41\")"
   ]
  },
  {
   "cell_type": "code",
   "execution_count": 11,
   "id": "057d1a42",
   "metadata": {},
   "outputs": [],
   "source": [
    "# dividing the data by the 80th percentile of the data from the TotalCharges variable\n",
    "total_charges_under80 = churn_df.query(\"TotalCharges <= 2840.41\")\n",
    "total_charges_above80 = churn_df.query(\"TotalCharges > 2840.41\")"
   ]
  },
  {
   "cell_type": "code",
   "execution_count": 12,
   "id": "213f9acc",
   "metadata": {},
   "outputs": [
    {
     "data": {
      "text/plain": [
       "count    1495.000000\n",
       "mean      711.265819\n",
       "std       766.848197\n",
       "min        18.850000\n",
       "25%        85.025000\n",
       "50%       371.650000\n",
       "75%      1128.225000\n",
       "max      2839.650000\n",
       "Name: TotalCharges, dtype: float64"
      ]
     },
     "execution_count": 12,
     "metadata": {},
     "output_type": "execute_result"
    }
   ],
   "source": [
    "# displaying the distribution of TotalCharges paid by people under 80th percentile\n",
    "total_charges_under80.TotalCharges.describe()"
   ]
  },
  {
   "cell_type": "code",
   "execution_count": 13,
   "id": "6facb3d4",
   "metadata": {},
   "outputs": [
    {
     "data": {
      "text/plain": [
       "count     374.000000\n",
       "mean     4811.723262\n",
       "std      1436.724288\n",
       "min      2841.550000\n",
       "25%      3522.462500\n",
       "50%      4571.100000\n",
       "75%      5891.212500\n",
       "max      8684.800000\n",
       "Name: TotalCharges, dtype: float64"
      ]
     },
     "execution_count": 13,
     "metadata": {},
     "output_type": "execute_result"
    }
   ],
   "source": [
    "# displaying the distribution of TotalCharges paid by people above 80th percentile\n",
    "total_charges_above80.TotalCharges.describe()"
   ]
  },
  {
   "cell_type": "code",
   "execution_count": 14,
   "id": "76032dbf",
   "metadata": {},
   "outputs": [
    {
     "data": {
      "text/plain": [
       "count    1495.000000\n",
       "mean        9.935117\n",
       "std        10.742349\n",
       "min         1.000000\n",
       "25%         1.000000\n",
       "50%         6.000000\n",
       "75%        15.000000\n",
       "max        61.000000\n",
       "Name: Tenure, dtype: float64"
      ]
     },
     "execution_count": 14,
     "metadata": {},
     "output_type": "execute_result"
    }
   ],
   "source": [
    "# displaying the distribution of Tenure of people under 80th percentile\n",
    "total_charges_under80.Tenure.describe()"
   ]
  },
  {
   "cell_type": "code",
   "execution_count": 15,
   "id": "729c8f47",
   "metadata": {},
   "outputs": [
    {
     "data": {
      "text/plain": [
       "count    374.000000\n",
       "mean      50.133690\n",
       "std       12.334841\n",
       "min       27.000000\n",
       "25%       40.000000\n",
       "50%       49.500000\n",
       "75%       60.000000\n",
       "max       72.000000\n",
       "Name: Tenure, dtype: float64"
      ]
     },
     "execution_count": 15,
     "metadata": {},
     "output_type": "execute_result"
    }
   ],
   "source": [
    "# displaying the distribution of Tenure of people above 80th percentile\n",
    "total_charges_above80.Tenure.describe()"
   ]
  },
  {
   "cell_type": "markdown",
   "id": "8c33ea97",
   "metadata": {},
   "source": [
    "Answer:<br>\n",
    "<i>The average LTV of 80% of the customers who unsubscribed is ~711 dollars and their tenure is ~10 months. On the other hand, the average LTV of top 20% of the customers who unsubscribed is ~4811 dollars and their tenure is ~50 months.</i>\n",
    "\n",
    "<i>The customers in the top 20% have a much higher tenure and that is the reason for their high LTV.</i>"
   ]
  },
  {
   "cell_type": "markdown",
   "id": "3c24f5cf",
   "metadata": {},
   "source": [
    "---\n",
    "#### Question 2: What kinds of services did the customers subscribed when they were customers?"
   ]
  },
  {
   "cell_type": "markdown",
   "id": "774577c7",
   "metadata": {},
   "source": [
    "#### Service: PhoneService"
   ]
  },
  {
   "cell_type": "markdown",
   "id": "1bd66b31",
   "metadata": {},
   "source": [
    "##### Under 80 percentage (Low LTV customers)"
   ]
  },
  {
   "cell_type": "code",
   "execution_count": 16,
   "id": "03ec0ea9",
   "metadata": {},
   "outputs": [
    {
     "data": {
      "text/html": [
       "<div>\n",
       "<style scoped>\n",
       "    .dataframe tbody tr th:only-of-type {\n",
       "        vertical-align: middle;\n",
       "    }\n",
       "\n",
       "    .dataframe tbody tr th {\n",
       "        vertical-align: top;\n",
       "    }\n",
       "\n",
       "    .dataframe thead th {\n",
       "        text-align: right;\n",
       "    }\n",
       "</style>\n",
       "<table border=\"1\" class=\"dataframe\">\n",
       "  <thead>\n",
       "    <tr style=\"text-align: right;\">\n",
       "      <th></th>\n",
       "      <th>count(1)</th>\n",
       "    </tr>\n",
       "  </thead>\n",
       "  <tbody>\n",
       "    <tr>\n",
       "      <th>0</th>\n",
       "      <td>161</td>\n",
       "    </tr>\n",
       "    <tr>\n",
       "      <th>1</th>\n",
       "      <td>1334</td>\n",
       "    </tr>\n",
       "  </tbody>\n",
       "</table>\n",
       "</div>"
      ],
      "text/plain": [
       "   count(1)\n",
       "0       161\n",
       "1      1334"
      ]
     },
     "execution_count": 16,
     "metadata": {},
     "output_type": "execute_result"
    }
   ],
   "source": [
    "# using SQL\n",
    "pd.read_sql(\"select count(1) from churn_all where TotalCharges <= 2840.41 and Churn='Yes' group by PhoneService\", conn)"
   ]
  },
  {
   "cell_type": "markdown",
   "id": "cd13cb9d",
   "metadata": {},
   "source": [
    "0: No, 1: Yes"
   ]
  },
  {
   "cell_type": "code",
   "execution_count": 17,
   "id": "3cfa03bb",
   "metadata": {
    "scrolled": true
   },
   "outputs": [
    {
     "data": {
      "text/plain": [
       "Yes    1334\n",
       "No      161\n",
       "Name: PhoneService, dtype: int64"
      ]
     },
     "execution_count": 17,
     "metadata": {},
     "output_type": "execute_result"
    }
   ],
   "source": [
    "# using Pandas value_counts() function\n",
    "total_charges_under80.PhoneService.value_counts()"
   ]
  },
  {
   "cell_type": "code",
   "execution_count": 18,
   "id": "04c424b0",
   "metadata": {},
   "outputs": [
    {
     "data": {
      "text/plain": [
       "Yes    89.230769\n",
       "No     10.769231\n",
       "Name: PhoneService, dtype: float64"
      ]
     },
     "execution_count": 18,
     "metadata": {},
     "output_type": "execute_result"
    }
   ],
   "source": [
    "# calculating percentage using Pandas value_counts() function\n",
    "(total_charges_under80.PhoneService.value_counts() / total_charges_under80.shape[0]) * 100"
   ]
  },
  {
   "cell_type": "markdown",
   "id": "029f5cb0",
   "metadata": {},
   "source": [
    "~89% of people under 80% of people who left the company did have Phone Service<br>\n",
    "~11% of people under 80% of people who left the company did not have Phone Service."
   ]
  },
  {
   "cell_type": "markdown",
   "id": "f50cf235",
   "metadata": {},
   "source": [
    "##### Above 80 percentage (High LTV customers)"
   ]
  },
  {
   "cell_type": "code",
   "execution_count": 19,
   "id": "b7885671",
   "metadata": {},
   "outputs": [
    {
     "data": {
      "text/plain": [
       "Yes    365\n",
       "No       9\n",
       "Name: PhoneService, dtype: int64"
      ]
     },
     "execution_count": 19,
     "metadata": {},
     "output_type": "execute_result"
    }
   ],
   "source": [
    "# using Pandas value_counts() function\n",
    "total_charges_above80.PhoneService.value_counts()"
   ]
  },
  {
   "cell_type": "code",
   "execution_count": 20,
   "id": "974756b9",
   "metadata": {},
   "outputs": [
    {
     "data": {
      "text/plain": [
       "Yes    97.593583\n",
       "No      2.406417\n",
       "Name: PhoneService, dtype: float64"
      ]
     },
     "execution_count": 20,
     "metadata": {},
     "output_type": "execute_result"
    }
   ],
   "source": [
    "# calculating percentage using Pandas value_counts() function\n",
    "(total_charges_above80.PhoneService.value_counts() / total_charges_above80.shape[0]) * 100"
   ]
  },
  {
   "cell_type": "markdown",
   "id": "44af3fd7",
   "metadata": {},
   "source": [
    "~98% of the people above 80% have a Phone Service<br>\n",
    "~2% of the people above 80% do not have a Phone Service"
   ]
  },
  {
   "cell_type": "markdown",
   "id": "7d550bb9",
   "metadata": {},
   "source": [
    "Insights:<br>\n",
    "<ol>\n",
    "    <li>For the <strong>Top 20%</strong> (High LTV customers), only ~2% didn't use Phone Service. </li>\n",
    "    <li>For the <strong>Bottom 80%</strong> (Low LTV customers), ~11% didn't use Phone Service. </li>\n",
    "</ol>\n",
    "<strong>This means having a Phone Service can determine whether a customer is more likely to belong to the High LTV or Low LTV group.</strong>"
   ]
  },
  {
   "cell_type": "markdown",
   "id": "0a6336f9",
   "metadata": {},
   "source": [
    "#### Service: MultipleLines"
   ]
  },
  {
   "cell_type": "markdown",
   "id": "87c22d3e",
   "metadata": {},
   "source": [
    "##### Under 80 percentage (Low LTV customers)"
   ]
  },
  {
   "cell_type": "code",
   "execution_count": 21,
   "id": "3f3eac55",
   "metadata": {},
   "outputs": [
    {
     "data": {
      "text/plain": [
       "No     59.070465\n",
       "Yes    40.929535\n",
       "Name: MultipleLines, dtype: float64"
      ]
     },
     "execution_count": 21,
     "metadata": {},
     "output_type": "execute_result"
    }
   ],
   "source": [
    "# creating a dataframe where customers have PhoneService. Customers need to have PhoneService in order to have MultipleLines.\n",
    "total_charges_under80_use_phone = total_charges_under80.query(\"PhoneService == 'Yes'\")\n",
    "\n",
    "(total_charges_under80_use_phone.MultipleLines.value_counts() / total_charges_under80_use_phone.shape[0]) * 100"
   ]
  },
  {
   "cell_type": "markdown",
   "id": "a5d5582b",
   "metadata": {},
   "source": [
    "~59% of the people below 80% (Low LTV group) did not had Multiple Lines Phone Service.<br>\n",
    "~41% of the people below 80% (Low LTV group) had Multiple Lines Phone Service."
   ]
  },
  {
   "cell_type": "markdown",
   "id": "83349e0f",
   "metadata": {},
   "source": [
    "##### Above 80 percentage (High LTV customers)"
   ]
  },
  {
   "cell_type": "code",
   "execution_count": 22,
   "id": "43f87a6d",
   "metadata": {},
   "outputs": [
    {
     "data": {
      "text/plain": [
       "Yes    83.287671\n",
       "No     16.712329\n",
       "Name: MultipleLines, dtype: float64"
      ]
     },
     "execution_count": 22,
     "metadata": {},
     "output_type": "execute_result"
    }
   ],
   "source": [
    "# creating a dataframe where customers have PhoneService. Customers need to have PhoneService in order to have MultipleLines.\n",
    "# above 80 percentile | top 20 percentile \n",
    "total_charges_above80_use_phone = total_charges_above80.query(\"PhoneService == 'Yes'\")\n",
    "\n",
    "(total_charges_above80_use_phone.MultipleLines.value_counts() / total_charges_above80_use_phone.shape[0]) * 100"
   ]
  },
  {
   "cell_type": "markdown",
   "id": "24bc62a3",
   "metadata": {},
   "source": [
    "~83% of the top 20% people (High LTV group) had Multiple Lines Phone Service.<br>\n",
    "~17% of the top 20% people (High LTV group) did not had Multiple Lines Phone Service."
   ]
  },
  {
   "cell_type": "markdown",
   "id": "c2ac498d",
   "metadata": {},
   "source": [
    "Insights:<br>\n",
    "<ol>\n",
    "    <li>For the <strong>Top 20%</strong> (High LTV customers), only ~17% didn't had Multiple Lines Phone Service. </li>\n",
    "    <li>For the <strong>Bottom 80%</strong> (Low LTV customers), ~59% didn't had Multiple Lines Phone Service. </li>\n",
    "</ol>\n",
    "<strong>This means having a Phone Service with Multiple Lines can get the customers closer to the top 20% (High LTV group).</strong>"
   ]
  },
  {
   "cell_type": "markdown",
   "id": "3e22b364",
   "metadata": {},
   "source": [
    "#### Service: Internetservice"
   ]
  },
  {
   "cell_type": "code",
   "execution_count": 23,
   "id": "7fb793d9",
   "metadata": {},
   "outputs": [
    {
     "data": {
      "text/plain": [
       "Fiber optic    64.080268\n",
       "DSL            28.361204\n",
       "No              7.558528\n",
       "Name: InternetService, dtype: float64"
      ]
     },
     "execution_count": 23,
     "metadata": {},
     "output_type": "execute_result"
    }
   ],
   "source": [
    "# calculating percentage using Pandas value_counts() function\n",
    "(total_charges_under80.InternetService.value_counts() / total_charges_under80.shape[0]) * 100"
   ]
  },
  {
   "cell_type": "code",
   "execution_count": 24,
   "id": "0f7612e8",
   "metadata": {},
   "outputs": [
    {
     "data": {
      "text/plain": [
       "Fiber optic    90.641711\n",
       "DSL             9.358289\n",
       "Name: InternetService, dtype: float64"
      ]
     },
     "execution_count": 24,
     "metadata": {},
     "output_type": "execute_result"
    }
   ],
   "source": [
    "# calculating percentage using Pandas value_counts() function\n",
    "(total_charges_above80.InternetService.value_counts() / total_charges_above80.shape[0]) * 100"
   ]
  },
  {
   "cell_type": "markdown",
   "id": "f3ef0747",
   "metadata": {},
   "source": [
    "All the people in the high 20% LTV used Internet Service. On the other hand only 8% of the people in the low 80% LTV did not have Internet Service. Also, in the top 20%, 90% of them had Fibre Optic in comparison to only 64% in the low LTV. So, as a company if we want to increase the LTV of cutomers, we should recommend using internet and Fibre Optic connection."
   ]
  },
  {
   "cell_type": "markdown",
   "id": "29b35fdf",
   "metadata": {},
   "source": [
    "#### Service: Other Services"
   ]
  },
  {
   "cell_type": "code",
   "execution_count": 25,
   "id": "b932e5ff",
   "metadata": {},
   "outputs": [],
   "source": [
    "import numpy as np"
   ]
  },
  {
   "cell_type": "code",
   "execution_count": 26,
   "id": "72bf9a18",
   "metadata": {},
   "outputs": [],
   "source": [
    "total_charges_under80_use_internet = total_charges_under80.query('InternetService!=\"No\"')\n",
    "proportion_internet_sub_service_under80 = np.array([total_charges_under80_use_internet.query('OnlineSecurity==\"Yes\"').shape[0]/total_charges_under80_use_internet.shape[0],\n",
    "total_charges_under80_use_internet.query('TechSupport==\"Yes\"').shape[0]/total_charges_under80_use_internet.shape[0],\n",
    "total_charges_under80_use_internet.query('OnlineBackup==\"Yes\"').shape[0]/total_charges_under80_use_internet.shape[0],\n",
    "total_charges_under80_use_internet.query('DeviceProtection==\"Yes\"').shape[0]/total_charges_under80_use_internet.shape[0],\n",
    "total_charges_under80_use_internet.query('StreamingTV==\"Yes\"').shape[0]/total_charges_under80_use_internet.shape[0],\n",
    "total_charges_under80_use_internet.query('StreamingMovies==\"Yes\"').shape[0]/total_charges_under80_use_internet.shape[0]])"
   ]
  },
  {
   "cell_type": "code",
   "execution_count": 27,
   "id": "bf19c463",
   "metadata": {},
   "outputs": [
    {
     "data": {
      "text/plain": [
       "array([0.1316932 , 0.13603473, 0.22720695, 0.23516643, 0.37698987,\n",
       "       0.3813314 ])"
      ]
     },
     "execution_count": 27,
     "metadata": {},
     "output_type": "execute_result"
    }
   ],
   "source": [
    "proportion_internet_sub_service_under80"
   ]
  },
  {
   "cell_type": "code",
   "execution_count": 28,
   "id": "8a39acca",
   "metadata": {},
   "outputs": [],
   "source": [
    "total_charges_above80_use_internet = total_charges_above80.query('InternetService!=\"No\"')\n",
    "proportion_internet_sub_service_above80 = np.array([total_charges_above80_use_internet.query('OnlineSecurity==\"Yes\"').shape[0]/total_charges_above80_use_internet.shape[0],\n",
    "total_charges_above80_use_internet.query('TechSupport==\"Yes\"').shape[0]/total_charges_above80_use_internet.shape[0],\n",
    "total_charges_above80_use_internet.query('OnlineBackup==\"Yes\"').shape[0]/total_charges_above80_use_internet.shape[0],\n",
    "total_charges_above80_use_internet.query('DeviceProtection==\"Yes\"').shape[0]/total_charges_above80_use_internet.shape[0],\n",
    "total_charges_above80_use_internet.query('StreamingTV==\"Yes\"').shape[0]/total_charges_above80_use_internet.shape[0],\n",
    "total_charges_above80_use_internet.query('StreamingMovies==\"Yes\"').shape[0]/total_charges_above80_use_internet.shape[0]])"
   ]
  },
  {
   "cell_type": "code",
   "execution_count": 29,
   "id": "1e8d9322",
   "metadata": {},
   "outputs": [
    {
     "data": {
      "text/plain": [
       "array([0.30213904, 0.32620321, 0.55882353, 0.58823529, 0.78342246,\n",
       "       0.77807487])"
      ]
     },
     "execution_count": 29,
     "metadata": {},
     "output_type": "execute_result"
    }
   ],
   "source": [
    "proportion_internet_sub_service_above80"
   ]
  },
  {
   "cell_type": "markdown",
   "id": "12367ea7",
   "metadata": {},
   "source": [
    "In the top 20% of LTV both Streaming Movies and Streaming TV percentages are around 80%, in comparison in the low 80% LTV they are around 40%. Device protection and Online Backup for the top 20% LTV are around 55%, in comparison to only around 22% in the low LTV."
   ]
  },
  {
   "cell_type": "markdown",
   "id": "5e3d8ca2",
   "metadata": {},
   "source": [
    "---\n",
    "#### Question 3: For those who churn what is the proportion of each kind of contracts?"
   ]
  },
  {
   "cell_type": "code",
   "execution_count": 30,
   "id": "3d582e7d",
   "metadata": {},
   "outputs": [
    {
     "data": {
      "text/plain": [
       "Month-to-month    95.919732\n",
       "One0year           3.678930\n",
       "Two0year           0.401338\n",
       "Name: Contract, dtype: float64"
      ]
     },
     "execution_count": 30,
     "metadata": {},
     "output_type": "execute_result"
    }
   ],
   "source": [
    "# calculating percentage using Pandas value_counts() function\n",
    "(total_charges_under80.Contract.value_counts() / total_charges_under80.shape[0]) * 100"
   ]
  },
  {
   "cell_type": "code",
   "execution_count": 31,
   "id": "e0c3aa10",
   "metadata": {},
   "outputs": [
    {
     "data": {
      "text/plain": [
       "Month-to-month    59.090909\n",
       "One0year          29.679144\n",
       "Two0year          11.229947\n",
       "Name: Contract, dtype: float64"
      ]
     },
     "execution_count": 31,
     "metadata": {},
     "output_type": "execute_result"
    }
   ],
   "source": [
    "# calculating percentage using Pandas value_counts() function\n",
    "(total_charges_above80.Contract.value_counts() / total_charges_above80.shape[0]) * 100"
   ]
  },
  {
   "cell_type": "markdown",
   "id": "c88bf26f",
   "metadata": {},
   "source": [
    "---\n",
    "#### Question 4: For those who did not churn what is the proportion of each kind of contracts?"
   ]
  },
  {
   "cell_type": "code",
   "execution_count": 32,
   "id": "f37926c7",
   "metadata": {},
   "outputs": [],
   "source": [
    "# extracting those customers who churned (churn = no)\n",
    "paying_df = pd.read_sql(\"select * from churn_all where Churn = 'No'\", conn)"
   ]
  },
  {
   "cell_type": "code",
   "execution_count": 33,
   "id": "1ebd7f2b",
   "metadata": {},
   "outputs": [
    {
     "data": {
      "text/plain": [
       "count    5174.000000\n",
       "mean     2549.911442\n",
       "std      2329.954215\n",
       "min         0.000000\n",
       "25%       572.900000\n",
       "50%      1679.525000\n",
       "75%      4262.850000\n",
       "max      8672.450000\n",
       "Name: TotalCharges, dtype: float64"
      ]
     },
     "execution_count": 33,
     "metadata": {},
     "output_type": "execute_result"
    }
   ],
   "source": [
    "paying_df.TotalCharges.describe()"
   ]
  },
  {
   "cell_type": "code",
   "execution_count": 34,
   "id": "e0235c0e",
   "metadata": {},
   "outputs": [
    {
     "data": {
      "text/plain": [
       "4890.900000000001"
      ]
     },
     "execution_count": 34,
     "metadata": {},
     "output_type": "execute_result"
    }
   ],
   "source": [
    " # finding the 80th percentile of the data in TotalCharges\n",
    "paying_df.TotalCharges.quantile(0.8)"
   ]
  },
  {
   "cell_type": "code",
   "execution_count": 35,
   "id": "64f94573",
   "metadata": {},
   "outputs": [],
   "source": [
    "# dividing the data by the 80th percentile of the data from the TotalCharges variable\n",
    "paying_total_charges_under80 = paying_df.query(\"TotalCharges <= 4890.9\")\n",
    "paying_total_charges_above80 = paying_df.query(\"TotalCharges > 4890.9\")"
   ]
  },
  {
   "cell_type": "code",
   "execution_count": 39,
   "id": "e2c12ea0",
   "metadata": {},
   "outputs": [
    {
     "data": {
      "text/plain": [
       "Month-to-month    49.963759\n",
       "Two0year          25.465088\n",
       "One0year          24.571152\n",
       "Name: Contract, dtype: float64"
      ]
     },
     "execution_count": 39,
     "metadata": {},
     "output_type": "execute_result"
    }
   ],
   "source": [
    "# calculating percentage using Pandas value_counts() function\n",
    "(paying_total_charges_under80.Contract.value_counts() / paying_total_charges_under80.shape[0]) * 100"
   ]
  },
  {
   "cell_type": "code",
   "execution_count": 40,
   "id": "adc442f6",
   "metadata": {},
   "outputs": [
    {
     "data": {
      "text/plain": [
       "Two0year          57.294686\n",
       "One0year          28.019324\n",
       "Month-to-month    14.685990\n",
       "Name: Contract, dtype: float64"
      ]
     },
     "execution_count": 40,
     "metadata": {},
     "output_type": "execute_result"
    }
   ],
   "source": [
    "# calculating percentage using Pandas value_counts() function\n",
    "(paying_total_charges_above80.Contract.value_counts() / paying_total_charges_above80.shape[0]) * 100"
   ]
  },
  {
   "cell_type": "markdown",
   "id": "10bec7be",
   "metadata": {},
   "source": [
    "- If we want to stop churning we would like to sell contracts to people for at least 1 year, and much better for 2 years (Conjecture).\n",
    "- We have 57% of the people that stayed in the company in the top 20% of LTV, and only 11% of the people in the top 20% had a 2 year contract and left the company.\n",
    "- 95% of the people that left the company and are in the low 80% have a month-to-month contract, in contrast to only 50% of the people in the low 80% that stayed in the company. We can say having a month-to-month contract is one of the reason people are leaving the company (Conjecture)"
   ]
  },
  {
   "cell_type": "code",
   "execution_count": null,
   "id": "732cfc3f",
   "metadata": {},
   "outputs": [],
   "source": []
  }
 ],
 "metadata": {
  "kernelspec": {
   "display_name": "Python 3 (ipykernel)",
   "language": "python",
   "name": "python3"
  },
  "language_info": {
   "codemirror_mode": {
    "name": "ipython",
    "version": 3
   },
   "file_extension": ".py",
   "mimetype": "text/x-python",
   "name": "python",
   "nbconvert_exporter": "python",
   "pygments_lexer": "ipython3",
   "version": "3.11.2"
  }
 },
 "nbformat": 4,
 "nbformat_minor": 5
}
